{
  "nbformat": 4,
  "nbformat_minor": 0,
  "metadata": {
    "colab": {
      "provenance": [],
      "toc_visible": true
    },
    "kernelspec": {
      "name": "python3",
      "display_name": "Python 3"
    },
    "language_info": {
      "name": "python"
    }
  },
  "cells": [
    {
      "cell_type": "code",
      "execution_count": null,
      "metadata": {
        "id": "mLZQsuFoHlnX"
      },
      "outputs": [],
      "source": []
    },
    {
      "cell_type": "markdown",
      "metadata": {
        "id": "91f54d03"
      },
      "source": [
        "# Task\n",
        "Create a simple demo notebook to convert a PDF file to LaTeX text using the OpenAI GPT-4o multi-modal API."
      ]
    },
    {
      "cell_type": "markdown",
      "metadata": {
        "id": "62af0326"
      },
      "source": [
        "## Install necessary libraries\n",
        "\n",
        "### Subtask:\n",
        "Install libraries for handling PDFs and making API calls.\n"
      ]
    },
    {
      "cell_type": "markdown",
      "metadata": {
        "id": "85bdd11d"
      },
      "source": [
        "**Reasoning**:\n",
        "Install the required libraries for handling PDFs and making API calls.\n",
        "\n"
      ]
    },
    {
      "cell_type": "code",
      "metadata": {
        "colab": {
          "base_uri": "https://localhost:8080/"
        },
        "id": "0980872a",
        "outputId": "744ddd8b-b3e8-4eb2-992c-9f1da3a70295"
      },
      "source": [
        "%pip install openai pymupdf"
      ],
      "execution_count": null,
      "outputs": [
        {
          "output_type": "stream",
          "name": "stdout",
          "text": [
            "Requirement already satisfied: openai in /usr/local/lib/python3.12/dist-packages (1.99.9)\n",
            "Collecting pymupdf\n",
            "  Downloading pymupdf-1.26.3-cp39-abi3-manylinux_2_28_x86_64.whl.metadata (3.4 kB)\n",
            "Requirement already satisfied: anyio<5,>=3.5.0 in /usr/local/lib/python3.12/dist-packages (from openai) (4.10.0)\n",
            "Requirement already satisfied: distro<2,>=1.7.0 in /usr/local/lib/python3.12/dist-packages (from openai) (1.9.0)\n",
            "Requirement already satisfied: httpx<1,>=0.23.0 in /usr/local/lib/python3.12/dist-packages (from openai) (0.28.1)\n",
            "Requirement already satisfied: jiter<1,>=0.4.0 in /usr/local/lib/python3.12/dist-packages (from openai) (0.10.0)\n",
            "Requirement already satisfied: pydantic<3,>=1.9.0 in /usr/local/lib/python3.12/dist-packages (from openai) (2.11.7)\n",
            "Requirement already satisfied: sniffio in /usr/local/lib/python3.12/dist-packages (from openai) (1.3.1)\n",
            "Requirement already satisfied: tqdm>4 in /usr/local/lib/python3.12/dist-packages (from openai) (4.67.1)\n",
            "Requirement already satisfied: typing-extensions<5,>=4.11 in /usr/local/lib/python3.12/dist-packages (from openai) (4.14.1)\n",
            "Requirement already satisfied: idna>=2.8 in /usr/local/lib/python3.12/dist-packages (from anyio<5,>=3.5.0->openai) (3.10)\n",
            "Requirement already satisfied: certifi in /usr/local/lib/python3.12/dist-packages (from httpx<1,>=0.23.0->openai) (2025.8.3)\n",
            "Requirement already satisfied: httpcore==1.* in /usr/local/lib/python3.12/dist-packages (from httpx<1,>=0.23.0->openai) (1.0.9)\n",
            "Requirement already satisfied: h11>=0.16 in /usr/local/lib/python3.12/dist-packages (from httpcore==1.*->httpx<1,>=0.23.0->openai) (0.16.0)\n",
            "Requirement already satisfied: annotated-types>=0.6.0 in /usr/local/lib/python3.12/dist-packages (from pydantic<3,>=1.9.0->openai) (0.7.0)\n",
            "Requirement already satisfied: pydantic-core==2.33.2 in /usr/local/lib/python3.12/dist-packages (from pydantic<3,>=1.9.0->openai) (2.33.2)\n",
            "Requirement already satisfied: typing-inspection>=0.4.0 in /usr/local/lib/python3.12/dist-packages (from pydantic<3,>=1.9.0->openai) (0.4.1)\n",
            "Downloading pymupdf-1.26.3-cp39-abi3-manylinux_2_28_x86_64.whl (24.1 MB)\n",
            "\u001b[2K   \u001b[90m━━━━━━━━━━━━━━━━━━━━━━━━━━━━━━━━━━━━━━━━\u001b[0m \u001b[32m24.1/24.1 MB\u001b[0m \u001b[31m79.4 MB/s\u001b[0m eta \u001b[36m0:00:00\u001b[0m\n",
            "\u001b[?25hInstalling collected packages: pymupdf\n",
            "Successfully installed pymupdf-1.26.3\n"
          ]
        }
      ]
    },
    {
      "cell_type": "markdown",
      "metadata": {
        "id": "0ee65c60"
      },
      "source": [
        "## Load and process pdf\n",
        "\n",
        "### Subtask:\n",
        "Load the PDF file and extract relevant information, potentially converting pages to images for the multi-modal model.\n"
      ]
    },
    {
      "cell_type": "markdown",
      "metadata": {
        "id": "934459ff"
      },
      "source": [
        "**Reasoning**:\n",
        "The previous command failed because the `fpdf` library was not installed. The library needs to be installed before a sample PDF can be created.\n",
        "\n"
      ]
    },
    {
      "cell_type": "code",
      "metadata": {
        "colab": {
          "base_uri": "https://localhost:8080/"
        },
        "id": "7SVierQmJkEo",
        "outputId": "4c7e5246-4a7b-49d5-cb9c-a93e5902d7c0"
      },
      "source": [
        "%pip install fpdf"
      ],
      "execution_count": null,
      "outputs": [
        {
          "output_type": "stream",
          "name": "stdout",
          "text": [
            "Collecting fpdf\n",
            "  Downloading fpdf-1.7.2.tar.gz (39 kB)\n",
            "  Preparing metadata (setup.py) ... \u001b[?25l\u001b[?25hdone\n",
            "Building wheels for collected packages: fpdf\n",
            "  Building wheel for fpdf (setup.py) ... \u001b[?25l\u001b[?25hdone\n",
            "  Created wheel for fpdf: filename=fpdf-1.7.2-py2.py3-none-any.whl size=40704 sha256=a40de705eb54a1b1cda7ba646d0fe2f1cea5513b9e273972a60bc82e7a8c7b2d\n",
            "  Stored in directory: /root/.cache/pip/wheels/6e/62/11/dc73d78e40a218ad52e7451f30166e94491be013a7850b5d75\n",
            "Successfully built fpdf\n",
            "Installing collected packages: fpdf\n",
            "Successfully installed fpdf-1.7.2\n"
          ]
        }
      ]
    },
    {
      "cell_type": "markdown",
      "metadata": {
        "id": "e37ca4bf"
      },
      "source": [
        "**Reasoning**:\n",
        "Now that `fpdf` is installed, create a sample PDF file to use for testing the PDF processing code.\n",
        "\n"
      ]
    },
    {
      "cell_type": "code",
      "metadata": {
        "colab": {
          "base_uri": "https://localhost:8080/"
        },
        "id": "eaac255d",
        "outputId": "a4531866-aecc-447e-ea78-61b1e2bf01d3"
      },
      "source": [
        "from fpdf import FPDF\n",
        "\n",
        "pdf = FPDF()\n",
        "pdf.add_page()\n",
        "pdf.set_font(\"Arial\", size = 15)\n",
        "pdf.cell(200, 10, txt = \"This is a sample PDF page 1.\", ln = 1, align = 'C')\n",
        "pdf.add_page()\n",
        "pdf.cell(200, 10, txt = \"This is a sample PDF page 2.\", ln = 1, align = 'C')\n",
        "pdf_path = '/content/sample_document.pdf'\n",
        "pdf.output(pdf_path)\n",
        "\n",
        "print(f\"Created a sample PDF at: {pdf_path}\")"
      ],
      "execution_count": null,
      "outputs": [
        {
          "output_type": "stream",
          "name": "stdout",
          "text": [
            "Created a sample PDF at: /content/sample_document.pdf\n"
          ]
        }
      ]
    },
    {
      "cell_type": "markdown",
      "metadata": {
        "id": "7e0fb5cc"
      },
      "source": [
        "**Reasoning**:\n",
        "The sample PDF has been successfully created. Now, load this PDF file, iterate through its pages, convert each page to a high-resolution PNG image, and store the image data for later use.\n",
        "\n"
      ]
    },
    {
      "cell_type": "code",
      "metadata": {
        "colab": {
          "base_uri": "https://localhost:8080/"
        },
        "id": "68925814",
        "outputId": "3f00df55-6be9-47db-8c21-645721b44ba3"
      },
      "source": [
        "import fitz # PyMuPDF\n",
        "\n",
        "pdf_path = '/content/sample_document.pdf' # Use the path to the created sample PDF\n",
        "\n",
        "try:\n",
        "    doc = fitz.open(pdf_path)\n",
        "    images = []\n",
        "    for page_num in range(len(doc)):\n",
        "        page = doc.load_page(page_num)\n",
        "        pix = page.get_pixmap(dpi=300) # High resolution\n",
        "        img_data = pix.tobytes(\"png\")\n",
        "        images.append(img_data)\n",
        "    doc.close()\n",
        "    print(f\"Successfully processed {len(images)} pages.\")\n",
        "\n",
        "except Exception as e:\n",
        "    print(f\"An error occurred: {e}\")\n",
        "    images = [] # Ensure images list is empty on error"
      ],
      "execution_count": null,
      "outputs": [
        {
          "output_type": "stream",
          "name": "stdout",
          "text": [
            "Successfully processed 2 pages.\n"
          ]
        }
      ]
    },
    {
      "cell_type": "markdown",
      "metadata": {
        "id": "d9368954"
      },
      "source": [
        "## Prepare api call\n",
        "\n",
        "### Subtask:\n",
        "Structure the input for the GPT-4o API call, including the image data and the request to convert the content to LaTeX.\n"
      ]
    },
    {
      "cell_type": "markdown",
      "metadata": {
        "id": "6ba0a16b"
      },
      "source": [
        "**Reasoning**:\n",
        "Implement the logic to structure the input for the GPT-4o API call by encoding the images and formatting the messages according to the OpenAI API requirements.\n",
        "\n"
      ]
    },
    {
      "cell_type": "code",
      "metadata": {
        "id": "9b7bc46d"
      },
      "source": [
        "import base64\n",
        "\n",
        "messages = []\n",
        "\n",
        "for image_data in images:\n",
        "    encoded_image = base64.b64encode(image_data).decode('utf-8')\n",
        "    messages.append({\n",
        "        \"type\": \"image_url\",\n",
        "        \"image_url\": {\n",
        "            \"url\": f\"data:image/png;base64,{encoded_image}\",\n",
        "            \"detail\": \"high\"\n",
        "        }\n",
        "    })\n",
        "\n",
        "# Add the text prompt message\n",
        "messages_with_prompt = [\n",
        "    {\n",
        "        \"role\": \"user\",\n",
        "        \"content\": [\n",
        "            {\"type\": \"text\", \"text\": \"Convert the content of these PDF pages to LaTeX code.\"}\n",
        "        ] + messages # Add the image messages to the content list\n",
        "    }\n",
        "]\n",
        "\n",
        "# Now 'messages_with_prompt' contains the complete structure for the API call content\n",
        "# You can inspect it to verify\n",
        "# print(messages_with_prompt)"
      ],
      "execution_count": null,
      "outputs": []
    },
    {
      "cell_type": "markdown",
      "metadata": {
        "id": "34b0093d"
      },
      "source": [
        "## Call openai api\n",
        "\n",
        "### Subtask:\n",
        "Make the API call to GPT-4o with the processed data.\n"
      ]
    },
    {
      "cell_type": "markdown",
      "metadata": {
        "id": "8c806e20"
      },
      "source": [
        "**Reasoning**:\n",
        "Attempt to call the OpenAI API again, ensuring the API key is handled correctly and printing the response content upon success.\n",
        "\n"
      ]
    },
    {
      "cell_type": "code",
      "source": [
        "import getpass\n",
        "import os\n",
        "\n",
        "# IMPORTANT: Set your OpenAI API key as an environment variable named OPENAI_API_KEY\n",
        "api_key = getpass.getpass(prompt='Enter your OpenAI API key: ')\n",
        "os.environ[\"OPENAI_API_KEY\"] = api_key"
      ],
      "metadata": {
        "colab": {
          "base_uri": "https://localhost:8080/"
        },
        "id": "i4SwIzoXLx7v",
        "outputId": "b4c758f0-8f54-4a7b-89a3-9cd272aba198"
      },
      "execution_count": null,
      "outputs": [
        {
          "name": "stdout",
          "output_type": "stream",
          "text": [
            "Enter your OpenAI API key: ··········\n"
          ]
        }
      ]
    },
    {
      "cell_type": "code",
      "metadata": {
        "colab": {
          "base_uri": "https://localhost:8080/"
        },
        "id": "b5f95a64",
        "outputId": "86684831-5d9a-461f-b3f7-ab7a40ddbfa6"
      },
      "source": [
        "from openai import OpenAI\n",
        "import os\n",
        "\n",
        "# Attempt to get the API key from environment variables or secrets\n",
        "api_key = os.getenv(\"OPENAI_API_KEY\")\n",
        "\n",
        "if not api_key:\n",
        "    # This part is for demonstration purposes in an interactive environment like Colab\n",
        "    # In a production environment, you should set environment variables securely\n",
        "    try:\n",
        "        from google.colab import userdata\n",
        "        api_key = userdata.get('OPENAI_API_KEY')\n",
        "        print(\"Retrieved API key from Colab secrets.\")\n",
        "    except:\n",
        "        print(\"Error: OPENAI_API_KEY environment variable or Colab secret not set.\")\n",
        "        print(\"Please set the environment variable or Colab secret with your OpenAI API key.\")\n",
        "        api_key = None # Ensure api_key is None if not found\n",
        "\n",
        "if api_key:\n",
        "    try:\n",
        "        client = OpenAI(api_key=api_key)\n",
        "\n",
        "        response = client.chat.completions.create(\n",
        "            model=\"gpt-4o\",\n",
        "            messages=messages_with_prompt,\n",
        "            temperature=0.0, # Use 0.0 for deterministic output\n",
        "        )\n",
        "        print(\"API call successful. Response:\")\n",
        "        # Print only the content of the response to avoid printing sensitive information\n",
        "        if response and response.choices and len(response.choices) > 0:\n",
        "            print(response.choices[0].message.content)\n",
        "        else:\n",
        "            print(\"Unexpected response format.\")\n",
        "\n",
        "    except Exception as e:\n",
        "        print(f\"An error occurred during the API call: {e}\")\n",
        "        response = None\n",
        "else:\n",
        "    response = None\n",
        "    print(\"API call skipped due to missing API key.\")"
      ],
      "execution_count": null,
      "outputs": [
        {
          "output_type": "stream",
          "name": "stdout",
          "text": [
            "API call successful. Response:\n",
            "```latex\n",
            "\\documentclass{article}\n",
            "\\usepackage{lipsum}\n",
            "\n",
            "\\begin{document}\n",
            "\n",
            "\\section*{Page 1}\n",
            "This is a sample PDF page 1.\n",
            "\n",
            "\\newpage\n",
            "\n",
            "\\section*{Page 2}\n",
            "This is a sample PDF page 2.\n",
            "\n",
            "\\end{document}\n",
            "```\n"
          ]
        }
      ]
    },
    {
      "cell_type": "markdown",
      "metadata": {
        "id": "139ec4a7"
      },
      "source": [
        "## Process api response\n",
        "\n",
        "### Subtask:\n",
        "Extract the generated LaTeX code from the API response.\n"
      ]
    },
    {
      "cell_type": "markdown",
      "metadata": {
        "id": "e2ab0e73"
      },
      "source": [
        "**Reasoning**:\n",
        "Check if the response variable is not None and extract the LaTeX code from the API response.\n",
        "\n"
      ]
    },
    {
      "cell_type": "code",
      "metadata": {
        "colab": {
          "base_uri": "https://localhost:8080/"
        },
        "id": "7814806d",
        "outputId": "708a1c9d-2eb6-4db6-cfc1-8d095aea7ca7"
      },
      "source": [
        "if response is not None and response.choices and len(response.choices) > 0:\n",
        "    latex_output = response.choices[0].message.content\n",
        "    print(\"LaTeX output has been extracted.\")\n",
        "else:\n",
        "    latex_output = None\n",
        "    print(\"Could not extract LaTeX output from the response.\")"
      ],
      "execution_count": null,
      "outputs": [
        {
          "output_type": "stream",
          "name": "stdout",
          "text": [
            "LaTeX output has been extracted.\n"
          ]
        }
      ]
    },
    {
      "cell_type": "markdown",
      "metadata": {
        "id": "d441e001"
      },
      "source": [
        "**Reasoning**:\n",
        "The previous attempt to extract the LaTeX output failed because the API call failed. Since the API call requires the `OPENAI_API_KEY`, and it was not set, the previous step failed. I need to try the API call again, ensuring the API key is handled correctly, and then extract the LaTeX output.\n",
        "\n"
      ]
    },
    {
      "cell_type": "code",
      "metadata": {
        "colab": {
          "base_uri": "https://localhost:8080/"
        },
        "id": "9f2a34df",
        "outputId": "11a681e4-0358-491d-f131-fa1de2eb06a3"
      },
      "source": [
        "from openai import OpenAI\n",
        "import os\n",
        "\n",
        "# Attempt to get the API key from environment variables or secrets\n",
        "api_key = os.getenv(\"OPENAI_API_KEY\")\n",
        "\n",
        "if not api_key:\n",
        "    # This part is for demonstration purposes in an interactive environment like Colab\n",
        "    # In a production environment, you should set environment variables securely\n",
        "    try:\n",
        "        from google.colab import userdata\n",
        "        api_key = userdata.get('OPENAI_API_KEY')\n",
        "        print(\"Retrieved API key from Colab secrets.\")\n",
        "    except:\n",
        "        print(\"Error: OPENAI_API_KEY environment variable or Colab secret not set.\")\n",
        "        print(\"Please set the environment variable or Colab secret with your OpenAI API key.\")\n",
        "        api_key = None # Ensure api_key is None if not found\n",
        "\n",
        "response = None # Initialize response to None in case the API call fails\n",
        "\n",
        "if api_key:\n",
        "    try:\n",
        "        client = OpenAI(api_key=api_key)\n",
        "\n",
        "        response = client.chat.completions.create(\n",
        "            model=\"gpt-4o\",\n",
        "            messages=messages_with_prompt,\n",
        "            temperature=0.0, # Use 0.0 for deterministic output\n",
        "        )\n",
        "        print(\"API call successful.\")\n",
        "\n",
        "        if response and response.choices and len(response.choices) > 0:\n",
        "            latex_output = response.choices[0].message.content\n",
        "            print(\"LaTeX output has been extracted.\")\n",
        "        else:\n",
        "            latex_output = None\n",
        "            print(\"Unexpected response format or no content in response.\")\n",
        "\n",
        "    except Exception as e:\n",
        "        print(f\"An error occurred during the API call: {e}\")\n",
        "        latex_output = None\n",
        "else:\n",
        "    latex_output = None\n",
        "    print(\"API call skipped due to missing API key.\")\n"
      ],
      "execution_count": null,
      "outputs": [
        {
          "output_type": "stream",
          "name": "stdout",
          "text": [
            "Error: OPENAI_API_KEY environment variable or Colab secret not set.\n",
            "Please set the environment variable or Colab secret with your OpenAI API key.\n",
            "API call skipped due to missing API key.\n"
          ]
        }
      ]
    },
    {
      "cell_type": "markdown",
      "metadata": {
        "id": "a94e21e5"
      },
      "source": [
        "## Save latex output\n",
        "\n",
        "### Subtask:\n",
        "Save the generated LaTeX code to a `.tex` file.\n"
      ]
    },
    {
      "cell_type": "markdown",
      "metadata": {
        "id": "0dd36053"
      },
      "source": [
        "**Reasoning**:\n",
        "Check if `latex_output` is available and save it to a .tex file if it is.\n",
        "\n"
      ]
    },
    {
      "cell_type": "code",
      "metadata": {
        "colab": {
          "base_uri": "https://localhost:8080/"
        },
        "id": "9e5b757b",
        "outputId": "032d6a79-0ccb-43f0-8c53-ca11d8b73815"
      },
      "source": [
        "if latex_output is not None:\n",
        "    output_filename = \"output.tex\"\n",
        "    try:\n",
        "        with open(output_filename, \"w\", encoding=\"utf-8\") as f:\n",
        "            f.write(latex_output)\n",
        "        print(f\"Successfully saved LaTeX output to {output_filename}\")\n",
        "    except Exception as e:\n",
        "        print(f\"An error occurred while saving the file: {e}\")\n",
        "else:\n",
        "    print(\"LaTeX output is not available, cannot save to file.\")"
      ],
      "execution_count": null,
      "outputs": [
        {
          "output_type": "stream",
          "name": "stdout",
          "text": [
            "Successfully saved LaTeX output to output.tex\n"
          ]
        }
      ]
    },
    {
      "cell_type": "markdown",
      "metadata": {
        "id": "a7a9b68d"
      },
      "source": [
        "## Present results\n",
        "\n",
        "### Subtask:\n",
        "Display the generated LaTeX code and provide instructions on how to use it.\n"
      ]
    },
    {
      "cell_type": "markdown",
      "metadata": {
        "id": "f3bcd608"
      },
      "source": [
        "**Reasoning**:\n",
        "Check if the latex_output variable contains the generated LaTeX code, print it if available, and provide instructions on how to use it, or print a message if it's not available.\n",
        "\n"
      ]
    },
    {
      "cell_type": "code",
      "metadata": {
        "colab": {
          "base_uri": "https://localhost:8080/"
        },
        "id": "8966c3f8",
        "outputId": "ecd4931c-3723-497b-a22a-f12b68cfbebe"
      },
      "source": [
        "if latex_output is not None:\n",
        "    print(\"Generated LaTeX Code:\")\n",
        "    print(\"-\" * 40)\n",
        "    print(latex_output)\n",
        "    print(\"-\" * 40)\n",
        "    print(\"\\nInstructions for Using the Generated LaTeX Code:\")\n",
        "    print(\"1. The generated LaTeX code has been saved to a file named 'output.tex'.\")\n",
        "    print(\"2. You can compile this 'output.tex' file using a standard LaTeX compiler.\")\n",
        "    print(\"3. Popular LaTeX compilers include pdfLaTeX, XeLaTeX, and LuaLaTeX.\")\n",
        "    print(\"4. To compile, open your terminal or command prompt, navigate to the directory where 'output.tex' is saved, and run a command like:\")\n",
        "    print(\"   pdflatex output.tex\")\n",
        "    print(\"   or\")\n",
        "    print(\"   xelatex output.tex\")\n",
        "    print(\"5. This will generate a PDF file (output.pdf) and other auxiliary files.\")\n",
        "    print(\"6. If there are errors during compilation, carefully review the LaTeX code for any syntax issues that might have occurred during generation.\")\n",
        "else:\n",
        "    print(\"LaTeX output could not be generated and is therefore not available for presentation or use.\")"
      ],
      "execution_count": null,
      "outputs": [
        {
          "output_type": "stream",
          "name": "stdout",
          "text": [
            "LaTeX output could not be generated and is therefore not available for presentation or use.\n"
          ]
        }
      ]
    },
    {
      "cell_type": "markdown",
      "metadata": {
        "id": "da168cf4"
      },
      "source": [
        "## Summary:\n",
        "\n",
        "### Data Analysis Key Findings\n",
        "\n",
        "*   The necessary libraries (`openai`, `pymupdf`, and `fpdf`) were successfully installed.\n",
        "*   A two-page sample PDF document (`sample_document.pdf`) was successfully created for testing.\n",
        "*   The process of loading the sample PDF and extracting each page as a high-resolution PNG image was successful.\n",
        "*   The extracted image data was correctly formatted into the required structure for the OpenAI GPT-4o multi-modal API, including base64 encoding and a text prompt for LaTeX conversion.\n",
        "*   Multiple attempts to call the OpenAI API failed consistently because the `OPENAI_API_KEY` environment variable or Colab secret was not set, preventing the successful instantiation of the OpenAI client.\n",
        "*   Due to the failed API calls, the `latex_output` variable remained `None`.\n",
        "*   Consequently, the steps to save the LaTeX output to a file and present the results indicated that the LaTeX output was not available.\n",
        "\n",
        "### Insights or Next Steps\n",
        "\n",
        "*   The primary next step is to ensure the `OPENAI_API_KEY` environment variable or Colab secret is correctly set with a valid OpenAI API key to allow the API call to proceed.\n",
        "*   After successfully obtaining a response from the API, the notebook should verify the content of the response for potential errors or unexpected formats before attempting to extract and save the LaTeX code.\n"
      ]
    }
  ]
}